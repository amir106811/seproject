{
 "cells": [
  {
   "cell_type": "markdown",
   "metadata": {},
   "source": [
    "homework3\n",
    "امیرحسین رضاقره باغ-40025024\n",
    "پریسا میرچولی-40025045"
   ]
  },
  {
   "cell_type": "code",
   "execution_count": 1,
   "metadata": {},
   "outputs": [],
   "source": [
    "import json\n",
    "import os"
   ]
  },
  {
   "cell_type": "code",
   "execution_count": 2,
   "metadata": {},
   "outputs": [],
   "source": [
    "class Person:\n",
    "    def __init__(self, username, password, age, wallet=0, address=\"\"):\n",
    "        self.username = username\n",
    "        self.password = password\n",
    "        self.age = age\n",
    "        self.wallet = wallet\n",
    "        self.address = address\n",
    "\n",
    "    def to_dict(self):\n",
    "        return {\n",
    "            \"username\": self.username,\n",
    "            \"password\": self.password,\n",
    "            \"age\": self.age,\n",
    "            \"wallet\": self.wallet,\n",
    "            \"address\": self.address\n",
    "        }"
   ]
  },
  {
   "cell_type": "code",
   "execution_count": 3,
   "metadata": {},
   "outputs": [],
   "source": [
    "def load_users(file_path):\n",
    "    if os.path.exists(file_path):\n",
    "        with open(file_path, 'r') as file:\n",
    "            return json.load(file)\n",
    "    return {}\n",
    "\n",
    "def save_users(file_path, users):\n",
    "    with open(file_path, 'w') as file:\n",
    "        json.dump(users, file, indent=4)"
   ]
  },
  {
   "cell_type": "code",
   "execution_count": 4,
   "metadata": {},
   "outputs": [],
   "source": [
    "def sign_up(users, file_path):\n",
    "    username = input(\"Enter username: \")\n",
    "    if username in users:\n",
    "        print(\"Username already exists.\")\n",
    "        return\n",
    "    \n",
    "    password = input(\"Enter password: \")\n",
    "    age = input(\"Enter age: \")\n",
    "    address = input(\"Enter address: \")\n",
    "    user = Person(username, password, age, wallet=0, address=address)\n",
    "    users[username] = user.to_dict()\n",
    "    save_users(file_path, users)\n",
    "    print(\"Account created successfully.\")\n",
    "\n",
    "def log_in(users):\n",
    "    username = input(\"Enter username: \")\n",
    "    password = input(\"Enter password: \")\n",
    "    \n",
    "    if username in users and users[username]['password'] == password:\n",
    "        print(f\"Welcome {username}\")\n",
    "        return users[username]\n",
    "    else:\n",
    "        print(\"Invalid username or password.\")\n",
    "        return None"
   ]
  },
  {
   "cell_type": "code",
   "execution_count": 5,
   "metadata": {},
   "outputs": [],
   "source": [
    "def charge_wallet(user, file_path, users):\n",
    "    amount = int(input(\"Enter amount to charge: \"))\n",
    "    user['wallet'] += amount\n",
    "    save_users(file_path, users)\n",
    "    print(f\"New wallet balance: {user['wallet']}\")"
   ]
  },
  {
   "cell_type": "code",
   "execution_count": 6,
   "metadata": {},
   "outputs": [],
   "source": [
    "def edit_address(user, file_path, users):\n",
    "    new_address = input(\"Enter new address (Format: 'City, Street, Alley, Number'): \")\n",
    "    if not new_address:\n",
    "        print(\"Address cannot be empty.\")\n",
    "        return\n",
    "    \n",
    "    if \"City\" not in new_address:\n",
    "        print(\"Address must contain 'City'.\")\n",
    "        return\n",
    "    \n",
    "    if \"Number\" not in new_address:\n",
    "        print(\"Address must contain 'Number'.\")\n",
    "        return\n",
    "    \n",
    "    user['address'] = new_address\n",
    "    save_users(file_path, users)\n",
    "    print(f\"New address: {user['address']}\")"
   ]
  },
  {
   "cell_type": "code",
   "execution_count": 7,
   "metadata": {},
   "outputs": [],
   "source": [
    "def main():\n",
    "    file_path = 'users.json'\n",
    "    users = load_users(file_path)\n",
    "    \n",
    "    action = input(\"Do you want to Login or Sign up? (Login/Sign up): \").strip().lower()\n",
    "    \n",
    "    if action == 'sign up':\n",
    "        sign_up(users, file_path)\n",
    "    elif action == 'login':\n",
    "        user = log_in(users)\n",
    "        if user:\n",
    "            sub_action = input(\"Do you want to charge wallet or edit address? (Charge/Edit): \").strip().lower()\n",
    "            if sub_action == 'charge':\n",
    "                charge_wallet(user, file_path, users)\n",
    "            elif sub_action == 'edit':\n",
    "                edit_address(user, file_path, users)\n",
    "            else:\n",
    "                print(\"Invalid action.\")\n",
    "    else:\n",
    "        print(\"Invalid action.\")\n",
    "\n",
    "if __name__ == \"__main__\":\n",
    "    main()"
   ]
  }
 ],
 "metadata": {
  "kernelspec": {
   "display_name": "Python 3",
   "language": "python",
   "name": "python3"
  },
  "language_info": {
   "codemirror_mode": {
    "name": "ipython",
    "version": 3
   },
   "file_extension": ".py",
   "mimetype": "text/x-python",
   "name": "python",
   "nbconvert_exporter": "python",
   "pygments_lexer": "ipython3",
   "version": "3.9.6"
  }
 },
 "nbformat": 4,
 "nbformat_minor": 2
}
